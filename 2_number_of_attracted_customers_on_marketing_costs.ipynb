{
 "cells": [
  {
   "cell_type": "code",
   "execution_count": 18,
   "metadata": {
    "id": "NzlFAhMNwp3h"
   },
   "outputs": [],
   "source": [
    "import pandas as pd\n",
    "import matplotlib.pyplot as plt\n",
    "from matplotlib.colors import ListedColormap\n"
   ]
  },
  {
   "cell_type": "code",
   "execution_count": 2,
   "metadata": {
    "id": "Im7-w08nwp3i"
   },
   "outputs": [],
   "source": [
    "workouts = pd.read_csv('workouts.csv', parse_dates=['start_at']) \n",
    "\n",
    "users = pd.read_excel('users.xlsx') # подключимся к данным по клиентам"
   ]
  },
  {
   "cell_type": "markdown",
   "metadata": {
    "id": "QbhKbauswp3i"
   },
   "source": [
    "Создадим новый датафрейм, в котором соединены уроки и пользователи"
   ]
  },
  {
   "cell_type": "code",
   "execution_count": 3,
   "metadata": {
    "id": "tpHcznx-wp3j"
   },
   "outputs": [],
   "source": [
    "workouts_users =  pd.merge(workouts, \n",
    "                           users, \n",
    "                           how='left',                      \n",
    "                           left_on='client_id', \n",
    "                           right_on='user_id')"
   ]
  },
  {
   "cell_type": "code",
   "execution_count": 4,
   "metadata": {
    "id": "AZxq6ufuwp3j"
   },
   "outputs": [],
   "source": [
    "payments = pd.read_excel('payments.xlsx') # подключимся к данным по оплатам\n",
    "\n",
    "marketing = pd.read_excel('marketing.xlsx') # подключимся к данным маркетинга"
   ]
  },
  {
   "cell_type": "markdown",
   "metadata": {
    "id": "kZH4infGwp3o"
   },
   "source": [
    "____\n",
    "\n",
    "### Задача\n",
    "\n",
    "Маркетологи просят помочь запланировать затраты на маркетинг с учётом планов по привлечению клиентов. Можем ли мы ожидать, что если увеличить бюджет на привлечение — количество новых клиентов увеличится пропорционально?\n",
    "\n",
    "Посмотрим, как коррелируют (соотносятся) затраты на маркетинг с количеством привлеченных клиентов.\n",
    "\n",
    "Для такого исследования хорошо подходит __scatter plot__."
   ]
  },
  {
   "cell_type": "markdown",
   "metadata": {
    "id": "k6DgMq0Mwp3o"
   },
   "source": [
    "__Подготовим данные__\n",
    "\n",
    "1. Берем данные о первых оплатах\n",
    "2. Объединяем данные о первых оплатах с данными по привлечению\n",
    "3. Группируем данные первых оплат по месяцам, так как данные маркетинга — ежемесячные"
   ]
  },
  {
   "cell_type": "markdown",
   "metadata": {
    "id": "WlErxmHBwp3q"
   },
   "source": [
    "Найдем количество первых оплат по месяцам и по географии"
   ]
  },
  {
   "cell_type": "code",
   "execution_count": 5,
   "metadata": {
    "id": "qpLdSscBwp3q"
   },
   "outputs": [],
   "source": [
    "# переводим даты в нужный формат\n",
    "payments['payment_datetime'] = pd.to_datetime(payments.payment_date) \n",
    "\n",
    "# объединим платежи и данные о географии студентов\n",
    "payments_with_geo = pd.merge(payments, \n",
    "                             users[['user_id','geo_group']], \n",
    "                             on='user_id') "
   ]
  },
  {
   "cell_type": "code",
   "execution_count": 6,
   "metadata": {
    "id": "wxS4RoyNwp3r"
   },
   "outputs": [],
   "source": [
    "# вычисляем даты первых оплат для каждого клиента\n",
    "fst_payment = payments_with_geo.groupby(['user_id', 'geo_group'])['payment_date'].min() \n",
    "\n",
    "# сбрасываем индекс\n",
    "fst_payment = fst_payment.reset_index() \n",
    "\n",
    "# считаем количество первых оплат в каждом месяце и гео-группе\n",
    "fst_payment_month = fst_payment.groupby([fst_payment['payment_date'].dt.month,\n",
    "                                         fst_payment['geo_group']])['user_id'].count().reset_index() "
   ]
  },
  {
   "cell_type": "code",
   "execution_count": 7,
   "metadata": {
    "id": "GeClws67wp3s",
    "outputId": "858136c4-840b-4f06-8767-29f9dccdc2cf"
   },
   "outputs": [
    {
     "data": {
      "text/html": [
       "<div>\n",
       "<style scoped>\n",
       "    .dataframe tbody tr th:only-of-type {\n",
       "        vertical-align: middle;\n",
       "    }\n",
       "\n",
       "    .dataframe tbody tr th {\n",
       "        vertical-align: top;\n",
       "    }\n",
       "\n",
       "    .dataframe thead th {\n",
       "        text-align: right;\n",
       "    }\n",
       "</style>\n",
       "<table border=\"1\" class=\"dataframe\">\n",
       "  <thead>\n",
       "    <tr style=\"text-align: right;\">\n",
       "      <th></th>\n",
       "      <th>payment_date</th>\n",
       "      <th>geo_group</th>\n",
       "      <th>user_id</th>\n",
       "    </tr>\n",
       "  </thead>\n",
       "  <tbody>\n",
       "    <tr>\n",
       "      <th>0</th>\n",
       "      <td>1</td>\n",
       "      <td>Без страны</td>\n",
       "      <td>2</td>\n",
       "    </tr>\n",
       "    <tr>\n",
       "      <th>1</th>\n",
       "      <td>1</td>\n",
       "      <td>Москва</td>\n",
       "      <td>194</td>\n",
       "    </tr>\n",
       "    <tr>\n",
       "      <th>2</th>\n",
       "      <td>1</td>\n",
       "      <td>Регионы РФ</td>\n",
       "      <td>169</td>\n",
       "    </tr>\n",
       "  </tbody>\n",
       "</table>\n",
       "</div>"
      ],
      "text/plain": [
       "   payment_date   geo_group  user_id\n",
       "0             1  Без страны        2\n",
       "1             1      Москва      194\n",
       "2             1  Регионы РФ      169"
      ]
     },
     "execution_count": 7,
     "metadata": {},
     "output_type": "execute_result"
    }
   ],
   "source": [
    "fst_payment_month.head(3)"
   ]
  },
  {
   "cell_type": "code",
   "execution_count": 8,
   "metadata": {
    "id": "3-iG4k_gwp3t"
   },
   "outputs": [],
   "source": [
    "# переименовали с помощью метода .columns\n",
    "\n",
    "fst_payment_month.columns = ['month', 'geo_group', 'sales'] "
   ]
  },
  {
   "cell_type": "code",
   "execution_count": 9,
   "metadata": {
    "id": "n4I7WMp1wp3t",
    "outputId": "02cee3fd-c91b-4db8-feee-4a3367d2d823"
   },
   "outputs": [
    {
     "data": {
      "text/html": [
       "<div>\n",
       "<style scoped>\n",
       "    .dataframe tbody tr th:only-of-type {\n",
       "        vertical-align: middle;\n",
       "    }\n",
       "\n",
       "    .dataframe tbody tr th {\n",
       "        vertical-align: top;\n",
       "    }\n",
       "\n",
       "    .dataframe thead th {\n",
       "        text-align: right;\n",
       "    }\n",
       "</style>\n",
       "<table border=\"1\" class=\"dataframe\">\n",
       "  <thead>\n",
       "    <tr style=\"text-align: right;\">\n",
       "      <th></th>\n",
       "      <th>month</th>\n",
       "      <th>geo_group</th>\n",
       "      <th>sales</th>\n",
       "    </tr>\n",
       "  </thead>\n",
       "  <tbody>\n",
       "    <tr>\n",
       "      <th>0</th>\n",
       "      <td>1</td>\n",
       "      <td>Без страны</td>\n",
       "      <td>2</td>\n",
       "    </tr>\n",
       "    <tr>\n",
       "      <th>1</th>\n",
       "      <td>1</td>\n",
       "      <td>Москва</td>\n",
       "      <td>194</td>\n",
       "    </tr>\n",
       "    <tr>\n",
       "      <th>2</th>\n",
       "      <td>1</td>\n",
       "      <td>Регионы РФ</td>\n",
       "      <td>169</td>\n",
       "    </tr>\n",
       "  </tbody>\n",
       "</table>\n",
       "</div>"
      ],
      "text/plain": [
       "   month   geo_group  sales\n",
       "0      1  Без страны      2\n",
       "1      1      Москва    194\n",
       "2      1  Регионы РФ    169"
      ]
     },
     "execution_count": 9,
     "metadata": {},
     "output_type": "execute_result"
    }
   ],
   "source": [
    "fst_payment_month.head(3)"
   ]
  },
  {
   "cell_type": "markdown",
   "metadata": {
    "id": "g7411i_cwp3t"
   },
   "source": [
    "Объединим первые оплаты с данными о затратах на маркетинг"
   ]
  },
  {
   "cell_type": "code",
   "execution_count": 10,
   "metadata": {
    "id": "VP8FklLHwp3u",
    "outputId": "580d8c2c-9585-454f-e536-3510ca9974f6"
   },
   "outputs": [
    {
     "data": {
      "text/html": [
       "<div>\n",
       "<style scoped>\n",
       "    .dataframe tbody tr th:only-of-type {\n",
       "        vertical-align: middle;\n",
       "    }\n",
       "\n",
       "    .dataframe tbody tr th {\n",
       "        vertical-align: top;\n",
       "    }\n",
       "\n",
       "    .dataframe thead th {\n",
       "        text-align: right;\n",
       "    }\n",
       "</style>\n",
       "<table border=\"1\" class=\"dataframe\">\n",
       "  <thead>\n",
       "    <tr style=\"text-align: right;\">\n",
       "      <th></th>\n",
       "      <th>month</th>\n",
       "      <th>geo_group</th>\n",
       "      <th>sales</th>\n",
       "      <th>budget</th>\n",
       "    </tr>\n",
       "  </thead>\n",
       "  <tbody>\n",
       "    <tr>\n",
       "      <th>0</th>\n",
       "      <td>1</td>\n",
       "      <td>Москва</td>\n",
       "      <td>194</td>\n",
       "      <td>789709.675027</td>\n",
       "    </tr>\n",
       "    <tr>\n",
       "      <th>1</th>\n",
       "      <td>1</td>\n",
       "      <td>Регионы РФ</td>\n",
       "      <td>169</td>\n",
       "      <td>372466.203893</td>\n",
       "    </tr>\n",
       "    <tr>\n",
       "      <th>2</th>\n",
       "      <td>1</td>\n",
       "      <td>СНГ</td>\n",
       "      <td>58</td>\n",
       "      <td>201283.338968</td>\n",
       "    </tr>\n",
       "    <tr>\n",
       "      <th>3</th>\n",
       "      <td>2</td>\n",
       "      <td>Москва</td>\n",
       "      <td>207</td>\n",
       "      <td>931588.682871</td>\n",
       "    </tr>\n",
       "    <tr>\n",
       "      <th>4</th>\n",
       "      <td>2</td>\n",
       "      <td>Регионы РФ</td>\n",
       "      <td>208</td>\n",
       "      <td>629203.981110</td>\n",
       "    </tr>\n",
       "  </tbody>\n",
       "</table>\n",
       "</div>"
      ],
      "text/plain": [
       "   month   geo_group  sales         budget\n",
       "0      1      Москва    194  789709.675027\n",
       "1      1  Регионы РФ    169  372466.203893\n",
       "2      1         СНГ     58  201283.338968\n",
       "3      2      Москва    207  931588.682871\n",
       "4      2  Регионы РФ    208  629203.981110"
      ]
     },
     "execution_count": 10,
     "metadata": {},
     "output_type": "execute_result"
    }
   ],
   "source": [
    "marketing_sales = pd.merge(fst_payment_month, \n",
    "                           marketing, \n",
    "                           on=['geo_group','month'])\n",
    "marketing_sales.head()"
   ]
  },
  {
   "cell_type": "markdown",
   "metadata": {
    "id": "Haf3Mlzvwp3v"
   },
   "source": [
    "Найдём общее количество привлеченных клиентов и сумму затрат на маркетинг"
   ]
  },
  {
   "cell_type": "code",
   "execution_count": 11,
   "metadata": {
    "id": "IGogRPmawp3y",
    "outputId": "a92c1f76-803f-420e-c78c-20c7816acd8b"
   },
   "outputs": [
    {
     "data": {
      "text/html": [
       "<div>\n",
       "<style scoped>\n",
       "    .dataframe tbody tr th:only-of-type {\n",
       "        vertical-align: middle;\n",
       "    }\n",
       "\n",
       "    .dataframe tbody tr th {\n",
       "        vertical-align: top;\n",
       "    }\n",
       "\n",
       "    .dataframe thead th {\n",
       "        text-align: right;\n",
       "    }\n",
       "</style>\n",
       "<table border=\"1\" class=\"dataframe\">\n",
       "  <thead>\n",
       "    <tr style=\"text-align: right;\">\n",
       "      <th></th>\n",
       "      <th>month</th>\n",
       "      <th>sales</th>\n",
       "      <th>budget</th>\n",
       "    </tr>\n",
       "  </thead>\n",
       "  <tbody>\n",
       "    <tr>\n",
       "      <th>0</th>\n",
       "      <td>1</td>\n",
       "      <td>421</td>\n",
       "      <td>1.363459e+06</td>\n",
       "    </tr>\n",
       "    <tr>\n",
       "      <th>1</th>\n",
       "      <td>2</td>\n",
       "      <td>490</td>\n",
       "      <td>1.985795e+06</td>\n",
       "    </tr>\n",
       "    <tr>\n",
       "      <th>2</th>\n",
       "      <td>3</td>\n",
       "      <td>488</td>\n",
       "      <td>1.990748e+06</td>\n",
       "    </tr>\n",
       "    <tr>\n",
       "      <th>3</th>\n",
       "      <td>4</td>\n",
       "      <td>698</td>\n",
       "      <td>4.308354e+06</td>\n",
       "    </tr>\n",
       "    <tr>\n",
       "      <th>4</th>\n",
       "      <td>5</td>\n",
       "      <td>432</td>\n",
       "      <td>1.499338e+06</td>\n",
       "    </tr>\n",
       "  </tbody>\n",
       "</table>\n",
       "</div>"
      ],
      "text/plain": [
       "   month  sales        budget\n",
       "0      1    421  1.363459e+06\n",
       "1      2    490  1.985795e+06\n",
       "2      3    488  1.990748e+06\n",
       "3      4    698  4.308354e+06\n",
       "4      5    432  1.499338e+06"
      ]
     },
     "execution_count": 11,
     "metadata": {},
     "output_type": "execute_result"
    }
   ],
   "source": [
    "marketing_sales_total = marketing_sales.groupby('month')[['sales','budget']].sum().reset_index()\n",
    "\n",
    "marketing_sales_total.head()"
   ]
  },
  {
   "cell_type": "code",
   "execution_count": 12,
   "metadata": {
    "id": "rnbeZDtHwp30",
    "outputId": "98621e05-873c-4fe9-91bd-12f27194c7fa"
   },
   "outputs": [
    {
     "data": {
      "image/png": "[encoded data removed]",
      "text/plain": [
       "<Figure size 504x504 with 1 Axes>"
      ]
     },
     "metadata": {
      "needs_background": "light"
     },
     "output_type": "display_data"
    }
   ],
   "source": [
    "plt.figure(figsize=(7, 7))  \n",
    "\n",
    "\n",
    "\n",
    "plt.title('Зависимость количества привлеченных клиентов от затрат на маркетинг (помесячно)') \n",
    "plt.xlabel('Затраты на маркетинг, р') \n",
    "plt.ylabel('Первых покупок') \n",
    "\n",
    "plt.grid() \n",
    "\n",
    "# передали 3 аргумента\n",
    "plt.scatter(\n",
    "        marketing_sales_total['budget'], \n",
    "        marketing_sales_total['sales'], \n",
    "        alpha = 0.7 \n",
    ")\n",
    "\n",
    "plt.show() "
   ]
  },
  {
   "cell_type": "markdown",
   "metadata": {
    "id": "13ceF_7Iwp31"
   },
   "source": [
    "Увеличение бюджета не ведет к пропорциональному росту продаж — они растут заметно медленнее."
   ]
  },
  {
   "cell_type": "markdown",
   "metadata": {
    "id": "tHDjv2SIwp3-"
   },
   "source": [
    "### Задача \n",
    "\n",
    "Посмотреть, как выглядят наши затраты на маркетинг в разных гео-группах"
   ]
  },
  {
   "cell_type": "markdown",
   "metadata": {
    "id": "x-r-ePLFwp3_"
   },
   "source": [
    "Для начала посмотрим, какие значения может принимать колонка с гео-группой. Для этого воспользуемся множествами, так как они хранят только уникальные значения. Приведем ко множеству столбец с гео-группами:"
   ]
  },
  {
   "cell_type": "code",
   "execution_count": 54,
   "metadata": {
    "id": "HgmtKMsCwp3_",
    "outputId": "c3e43f12-2865-492b-d7d6-4dc994c1acd3"
   },
   "outputs": [
    {
     "data": {
      "text/plain": [
       "{'Москва', 'Регионы РФ', 'СНГ'}"
      ]
     },
     "execution_count": 54,
     "metadata": {},
     "output_type": "execute_result"
    }
   ],
   "source": [
    "set(marketing_sales['geo_group'])"
   ]
  },
  {
   "cell_type": "markdown",
   "metadata": {
    "id": "b6X9JUP5wp4B"
   },
   "source": [
    "**Создадим словарь, в котором гео-группы — это ключи, а номера для цветов — их значения.**"
   ]
  },
  {
   "cell_type": "code",
   "execution_count": 55,
   "metadata": {
    "id": "e3zqMm_0wp4B"
   },
   "outputs": [],
   "source": [
    "# зададим цвет для каждой группы\n",
    "\n",
    "values = {'Москва':1, \n",
    "          'Регионы РФ':2, \n",
    "          'СНГ':3} \n"
   ]
  },
  {
   "cell_type": "code",
   "execution_count": 56,
   "metadata": {
    "id": "zEkD8GJAwp4B",
    "outputId": "8abe1cc4-f4be-435a-edf5-4c9867cc4cb6"
   },
   "outputs": [
    {
     "data": {
      "text/plain": [
       "0     1\n",
       "1     2\n",
       "2     3\n",
       "3     1\n",
       "4     2\n",
       "5     3\n",
       "6     1\n",
       "7     2\n",
       "8     3\n",
       "9     1\n",
       "10    2\n",
       "11    3\n",
       "12    1\n",
       "13    2\n",
       "14    3\n",
       "15    1\n",
       "16    2\n",
       "17    3\n",
       "18    1\n",
       "19    2\n",
       "20    3\n",
       "21    1\n",
       "22    2\n",
       "23    3\n",
       "24    1\n",
       "25    2\n",
       "26    3\n",
       "27    1\n",
       "28    2\n",
       "29    3\n",
       "30    1\n",
       "31    2\n",
       "32    3\n",
       "33    1\n",
       "34    2\n",
       "35    3\n",
       "Name: geo_group, dtype: int64"
      ]
     },
     "execution_count": 56,
     "metadata": {},
     "output_type": "execute_result"
    }
   ],
   "source": [
    "marketing_sales['geo_group'].map(values)"
   ]
  },
  {
   "cell_type": "code",
   "execution_count": 59,
   "metadata": {
    "id": "PzacaBdCwp4C",
    "outputId": "11766e1e-800a-4531-c56e-86d5156b970c"
   },
   "outputs": [
    {
     "data": {
      "text/plain": [
       "<matplotlib.legend.Legend at 0x24b6309a640>"
      ]
     },
     "execution_count": 59,
     "metadata": {},
     "output_type": "execute_result"
    },
    {
     "data": {
      "image/png": "[encoded data removed]",
      "text/plain": [
       "<Figure size 504x504 with 1 Axes>"
      ]
     },
     "metadata": {
      "needs_background": "light"
     },
     "output_type": "display_data"
    }
   ],
   "source": [
    "plt.figure(figsize=(7, 7))  # Зададим размер фигуры\n",
    "\n",
    "\n",
    "plt.title('Зависимость количества привлеченных клиентов от затрат на маркетинг (помесячно)') \n",
    "plt.xlabel('Затраты на маркетинг') \n",
    "plt.ylabel('Первых покупок') \n",
    "plt.grid() # сетка\n",
    "\n",
    "scatter = plt.scatter(\n",
    "    marketing_sales.budget, # ось OX \n",
    "    marketing_sales.sales, # ось OY\n",
    "    \n",
    "    c = marketing_sales['geo_group'].map(values),  \n",
    "    cmap = ListedColormap(['r', 'blue', 'tab:olive']),\n",
    "    alpha = 0.5 # Прозрачность 50%\n",
    ")\n",
    "plt.legend(handles=scatter.legend_elements()[0], labels=['Москва', 'Регионы РФ', 'СНГ'])\n"
   ]
  },
  {
   "cell_type": "markdown",
   "metadata": {
    "id": "WWt9niKOwp4D"
   },
   "source": [
    "Чтобы скорректировать диапазон значений на оси Х, изменим масштаб осей с помощью функций `xlim()`, `ylim()` — они задают начальное и конечное значение по каждой оси. \n",
    "\n",
    "Сделаем так, чтобы ось `X` начиналась с -10 тыс. и заканчивалась 1 млн.рублей, а на оси `Y` (количество привлеченных клиентов) значения были от 0 до 250.\n",
    "Это нужно в двух случаях:\n",
    "\n",
    "* чтобы убрать выбросы\n",
    "* чтобы скорректировать положение диаграммы и сделать её более удобной для анализа"
   ]
  },
  {
   "cell_type": "code",
   "execution_count": 60,
   "metadata": {
    "id": "89A3W5t4wp4D",
    "outputId": "26adb464-d3ec-45c3-afd0-406a746bca12",
    "scrolled": true
   },
   "outputs": [
    {
     "data": {
      "text/plain": [
       "<matplotlib.legend.Legend at 0x24b62f6c3a0>"
      ]
     },
     "execution_count": 60,
     "metadata": {},
     "output_type": "execute_result"
    },
    {
     "data": {
      "image/png": "[encoded data removed]",
      "text/plain": [
       "<Figure size 504x504 with 1 Axes>"
      ]
     },
     "metadata": {
      "needs_background": "light"
     },
     "output_type": "display_data"
    }
   ],
   "source": [
    "plt.figure(figsize=(7, 7))  # зададим размер фигуры\n",
    "\n",
    "# зададим масштаб осей\n",
    "plt.xlim(-10_000, 1_000_000) # минусовое значение, чтобы не отрезать 0\n",
    "plt.ylim(0, 250)\n",
    "\n",
    "plt.title('Зависимость количества привлеченных клиентов от затрат на маркетинг (помесячно)') \n",
    "plt.xlabel('Затраты на маркетинг, млн р') \n",
    "plt.ylabel('Первых покупок') \n",
    "\n",
    "plt.grid() # сетка\n",
    "\n",
    "scatter = plt.scatter(\n",
    "    marketing_sales.budget, # ось X \n",
    "    marketing_sales.sales, # ось Y\n",
    "    c = marketing_sales['geo_group'].map(values),  \n",
    "    cmap = ListedColormap(['r', 'blue', 'tab:olive']),\n",
    "    alpha = 0.5 # прозрачность 50%\n",
    ")\n",
    "plt.legend(handles=scatter.legend_elements()[0], labels=['Москва', 'Регионы РФ', 'СНГ'])\n",
    "\n"
   ]
  },
  {
   "cell_type": "code",
   "execution_count": null,
   "metadata": {},
   "outputs": [],
   "source": []
  }
 ],
 "metadata": {
  "colab": {
   "name": "Python_3.1_lesson.ipynb",
   "provenance": []
  },
  "kernelspec": {
   "display_name": "Python 3 (ipykernel)",
   "language": "python",
   "name": "python3"
  },
  "language_info": {
   "codemirror_mode": {
    "name": "ipython",
    "version": 3
   },
   "file_extension": ".py",
   "mimetype": "text/x-python",
   "name": "python",
   "nbconvert_exporter": "python",
   "pygments_lexer": "ipython3",
   "version": "3.9.13"
  }
 },
 "nbformat": 4,
 "nbformat_minor": 1
}
